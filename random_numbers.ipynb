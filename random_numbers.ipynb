{
 "cells": [
  {
   "cell_type": "code",
   "execution_count": 1,
   "id": "8507d9e2",
   "metadata": {},
   "outputs": [],
   "source": [
    "#Import random module\n",
    "import random"
   ]
  },
  {
   "cell_type": "code",
   "execution_count": 3,
   "id": "b5173edd",
   "metadata": {},
   "outputs": [
    {
     "data": {
      "text/plain": [
       "-39"
      ]
     },
     "execution_count": 3,
     "metadata": {},
     "output_type": "execute_result"
    }
   ],
   "source": [
    "random.randint(-90,90)"
   ]
  },
  {
   "cell_type": "code",
   "execution_count": 4,
   "id": "49d70f5b",
   "metadata": {},
   "outputs": [
    {
     "data": {
      "text/plain": [
       "0.21389292959489903"
      ]
     },
     "execution_count": 4,
     "metadata": {},
     "output_type": "execute_result"
    }
   ],
   "source": [
    "random.random()"
   ]
  },
  {
   "cell_type": "code",
   "execution_count": 8,
   "id": "c48bf89b",
   "metadata": {},
   "outputs": [
    {
     "data": {
      "text/plain": [
       "[-17.555852675166037,\n",
       " -19.457010678345092,\n",
       " -86.06311256007916,\n",
       " 12.060555020549206,\n",
       " -70.97496507887897,\n",
       " -62.437389202515334,\n",
       " 39.78834790931506,\n",
       " -31.725713503436552,\n",
       " 62.71803730122139,\n",
       " -45.11156208678549]"
      ]
     },
     "execution_count": 8,
     "metadata": {},
     "output_type": "execute_result"
    }
   ],
   "source": [
    "x=1\n",
    "latitudes=[]\n",
    "while x<11:\n",
    "    random_lat=random.randint(-90,89)+random.random()\n",
    "    latitudes.append(random_lat)\n",
    "    x+=1\n",
    "    \n",
    "latitudes"
   ]
  },
  {
   "cell_type": "code",
   "execution_count": 10,
   "id": "c6b8122b",
   "metadata": {},
   "outputs": [
    {
     "data": {
      "text/plain": [
       "-25"
      ]
     },
     "execution_count": 10,
     "metadata": {},
     "output_type": "execute_result"
    }
   ],
   "source": [
    "random.randrange(-90,90,step=5)"
   ]
  },
  {
   "cell_type": "code",
   "execution_count": 11,
   "id": "5e4b89e8",
   "metadata": {},
   "outputs": [
    {
     "data": {
      "text/plain": [
       "60.07726606363167"
      ]
     },
     "execution_count": 11,
     "metadata": {},
     "output_type": "execute_result"
    }
   ],
   "source": [
    "random.uniform(-90,90)"
   ]
  },
  {
   "cell_type": "code",
   "execution_count": 12,
   "id": "129ae668",
   "metadata": {},
   "outputs": [],
   "source": [
    "import numpy as np"
   ]
  },
  {
   "cell_type": "code",
   "execution_count": 14,
   "id": "7d91249c",
   "metadata": {},
   "outputs": [
    {
     "data": {
      "text/plain": [
       "-31.654299167939918"
      ]
     },
     "execution_count": 14,
     "metadata": {},
     "output_type": "execute_result"
    }
   ],
   "source": [
    "np.random.uniform(-90,90)"
   ]
  },
  {
   "cell_type": "code",
   "execution_count": 15,
   "id": "7d046718",
   "metadata": {},
   "outputs": [
    {
     "data": {
      "text/plain": [
       "array([-54.97824621, -23.7787413 ,   5.79761181,  25.9800836 ,\n",
       "         5.08759117, -44.84554172,  28.76317147, -17.68600569,\n",
       "        14.66906689,  44.97702611, -33.09452571, -67.5705392 ,\n",
       "        65.60269051, -73.80486722,  36.48500892,  62.74073303,\n",
       "        14.73204611, -43.78496617,  11.60262077, -37.07561619,\n",
       "       -86.86507783, -69.29083492,  44.62004791, -87.81906018,\n",
       "       -86.91707799, -42.36537332, -33.49201614, -83.45792706,\n",
       "        52.05747947, -42.08363219, -46.26765189, -53.6112404 ,\n",
       "       -32.05206095,  38.29152901,  72.43982269, -47.53398231,\n",
       "        68.42018293,  54.94093573,  33.15112103, -68.06419391,\n",
       "        10.86105794,  13.12852439, -32.76843516, -88.53386559,\n",
       "        74.66986424, -85.81411131,  66.43679498, -51.73466068,\n",
       "        28.31686673,  59.67257935])"
      ]
     },
     "execution_count": 15,
     "metadata": {},
     "output_type": "execute_result"
    }
   ],
   "source": [
    "np.random.uniform(-90,90,size=50)"
   ]
  },
  {
   "cell_type": "code",
   "execution_count": 16,
   "id": "45853bd3",
   "metadata": {},
   "outputs": [],
   "source": [
    "import timeit"
   ]
  },
  {
   "cell_type": "code",
   "execution_count": 18,
   "id": "9dc6b68d",
   "metadata": {},
   "outputs": [
    {
     "name": "stdout",
     "output_type": "stream",
     "text": [
      "15.1 µs ± 191 ns per loop (mean ± std. dev. of 7 runs, 100000 loops each)\n"
     ]
    }
   ],
   "source": [
    "%timeit np.random.uniform(-90,90,size=1500)"
   ]
  },
  {
   "cell_type": "code",
   "execution_count": 19,
   "id": "105a8a22",
   "metadata": {},
   "outputs": [
    {
     "name": "stdout",
     "output_type": "stream",
     "text": [
      "2.54 ms ± 152 µs per loop (mean ± std. dev. of 7 runs, 100 loops each)\n"
     ]
    }
   ],
   "source": [
    "def latitudes(size):\n",
    "    latitudes = []\n",
    "    x = 0\n",
    "    while x < (size):\n",
    "        random_lat = random.randint(-90, 90) + random.random()\n",
    "        latitudes.append(random_lat)\n",
    "        x += 1\n",
    "    return latitudes\n",
    "# Call the function with 1500.\n",
    "%timeit latitudes(1500)"
   ]
  },
  {
   "cell_type": "code",
   "execution_count": null,
   "id": "57d46ccc",
   "metadata": {},
   "outputs": [],
   "source": []
  }
 ],
 "metadata": {
  "kernelspec": {
   "display_name": "PythonData",
   "language": "python",
   "name": "pythondata"
  },
  "language_info": {
   "codemirror_mode": {
    "name": "ipython",
    "version": 3
   },
   "file_extension": ".py",
   "mimetype": "text/x-python",
   "name": "python",
   "nbconvert_exporter": "python",
   "pygments_lexer": "ipython3",
   "version": "3.7.10"
  }
 },
 "nbformat": 4,
 "nbformat_minor": 5
}
